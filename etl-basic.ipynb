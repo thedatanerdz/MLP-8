{
 "cells": [
  {
   "cell_type": "markdown",
   "id": "6f5cabc3",
   "metadata": {
    "papermill": {
     "duration": 0.004361,
     "end_time": "2023-09-01T21:25:59.989200",
     "exception": false,
     "start_time": "2023-09-01T21:25:59.984839",
     "status": "completed"
    },
    "tags": []
   },
   "source": [
    "## Python script for a basic ETL process:"
   ]
  },
  {
   "cell_type": "code",
   "execution_count": 1,
   "id": "d2f8b6c0",
   "metadata": {
    "_cell_guid": "b1076dfc-b9ad-4769-8c92-a6c4dae69d19",
    "_uuid": "8f2839f25d086af736a60e9eeb907d3b93b6e0e5",
    "execution": {
     "iopub.execute_input": "2023-09-01T21:25:59.999183Z",
     "iopub.status.busy": "2023-09-01T21:25:59.998633Z",
     "iopub.status.idle": "2023-09-01T21:26:02.704689Z",
     "shell.execute_reply": "2023-09-01T21:26:02.703415Z"
    },
    "papermill": {
     "duration": 2.71423,
     "end_time": "2023-09-01T21:26:02.707373",
     "exception": false,
     "start_time": "2023-09-01T21:25:59.993143",
     "status": "completed"
    },
    "tags": []
   },
   "outputs": [
    {
     "name": "stdout",
     "output_type": "stream",
     "text": [
      "Transformed Data:\n",
      "   sepal_length  sepal_width  petal_length  petal_width species  sepal_ratio\n",
      "0           5.1          3.5           1.4          0.2  setosa     1.457143\n",
      "1           4.9          3.0           1.4          0.2  setosa     1.633333\n",
      "2           4.7          3.2           1.3          0.2  setosa     1.468750\n",
      "3           4.6          3.1           1.5          0.2  setosa     1.483871\n",
      "4           5.0          3.6           1.4          0.2  setosa     1.388889\n",
      "\n",
      "Data saved to 'transformed_iris.csv'\n"
     ]
    }
   ],
   "source": [
    "import pandas as pd\n",
    "import seaborn as sns\n",
    "\n",
    "# Extract: Load a built-in dataset from Seaborn\n",
    "# We'll use the 'iris' dataset in this example.\n",
    "data = sns.load_dataset('iris')\n",
    "\n",
    "# Transform: Add a new column 'sepal_ratio' by dividing 'sepal_length' by 'sepal_width'\n",
    "data['sepal_ratio'] = data['sepal_length'] / data['sepal_width']\n",
    "\n",
    "# Display the first few rows of the transformed data\n",
    "print(\"Transformed Data:\")\n",
    "print(data.head())\n",
    "\n",
    "# Load: Save the transformed data to a CSV file\n",
    "data.to_csv('transformed_iris.csv', index=False)\n",
    "\n",
    "print(\"\\nData saved to 'transformed_iris.csv'\")\n"
   ]
  },
  {
   "cell_type": "markdown",
   "id": "68c8f229",
   "metadata": {
    "papermill": {
     "duration": 0.003619,
     "end_time": "2023-09-01T21:26:02.714891",
     "exception": false,
     "start_time": "2023-09-01T21:26:02.711272",
     "status": "completed"
    },
    "tags": []
   },
   "source": [
    "* We import Pandas and Seaborn libraries.\n",
    "* We extract data from the built-in 'iris' dataset using sns.load_dataset('iris').\n",
    "* We apply a simple transformation by creating a new column 'sepal_ratio' that calculates the ratio of 'sepal_length' to 'sepal_width'.\n",
    "* We display the first few rows of the transformed data.\n",
    "* Finally, we load the transformed data into a CSV file named 'transformed_iris.csv' using to_csv()."
   ]
  }
 ],
 "kernelspec": {
  "display_name": "Python 3",
  "language": "python",
  "name": "python3"
 },
 "language_info": {
  "codemirror_mode": {
   "name": "ipython",
   "version": 3
  },
  "file_extension": ".py",
  "mimetype": "text/x-python",
  "name": "python",
  "nbconvert_exporter": "python",
  "pygments_lexer": "ipython3",
  "version": "3.6.4"
 },
 "metadata": {
  "kernelspec": {
   "display_name": "Python 3",
   "language": "python",
   "name": "python3"
  },
  "language_info": {
   "codemirror_mode": {
    "name": "ipython",
    "version": 3
   },
   "file_extension": ".py",
   "mimetype": "text/x-python",
   "name": "python",
   "nbconvert_exporter": "python",
   "pygments_lexer": "ipython3",
   "version": "3.10.12"
  },
  "papermill": {
   "default_parameters": {},
   "duration": 7.08496,
   "end_time": "2023-09-01T21:26:03.340266",
   "environment_variables": {},
   "exception": null,
   "input_path": "__notebook__.ipynb",
   "output_path": "__notebook__.ipynb",
   "parameters": {},
   "start_time": "2023-09-01T21:25:56.255306",
   "version": "2.4.0"
  }
 },
 "nbformat": 4,
 "nbformat_minor": 5
}
